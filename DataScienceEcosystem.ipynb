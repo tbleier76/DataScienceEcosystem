{
 "cells": [
  {
   "cell_type": "code",
   "execution_count": null,
   "id": "6839722a-33c1-42c9-a51d-2ad0430a2679",
   "metadata": {},
   "outputs": [],
   "source": [
    "## Create a markdown cell with the title Data Science Tools and Ecosystem using H1 style heading."
   ]
  },
  {
   "cell_type": "markdown",
   "id": "aaf4ecfd-3cdc-4d80-86e6-d2f11938edcd",
   "metadata": {},
   "source": [
    "# Data Science Tools and Ecosystem"
   ]
  },
  {
   "cell_type": "markdown",
   "id": "2f88e228-0791-4d5b-bf64-a934359745ae",
   "metadata": {},
   "source": [
    "**Objectives:**\n",
    "- List popular languages for Data Science\n",
    "- List popular libraries for Data Science\n",
    "- List common Data Science tools\n",
    "- Introduce Jupyter Notebooks, Python, R, and GitHub"
   ]
  },
  {
   "cell_type": "code",
   "execution_count": null,
   "id": "d064dfb9-1dab-4c63-97bb-fdac1ee233fd",
   "metadata": {},
   "outputs": [],
   "source": [
    "## Write an introductory sentence about the notebook such as the follows: In this notebook, Data Science Tools and Ecosystem are summarized."
   ]
  },
  {
   "cell_type": "markdown",
   "id": "914882e8-8276-47df-b967-0c5c18fbe396",
   "metadata": {
    "tags": []
   },
   "source": [
    "##### In this notebook, Data Science Tools and Ecosystem are summarized."
   ]
  },
  {
   "cell_type": "code",
   "execution_count": null,
   "id": "8be51b04-18cb-447b-a0dd-ad29bdba61a3",
   "metadata": {
    "tags": []
   },
   "outputs": [],
   "source": [
    "## Create a markdown cell to list data science languages"
   ]
  },
  {
   "cell_type": "markdown",
   "id": "f181c71d-a684-4289-808f-c01fdd7c4150",
   "metadata": {},
   "source": [
    "Some of the popular languages that Data Scientists use are:\n",
    "1. Python\n",
    "2. R\n",
    "3. Julia"
   ]
  },
  {
   "cell_type": "code",
   "execution_count": null,
   "id": "0fc5f096-8210-4568-9b78-1f8a8542791b",
   "metadata": {},
   "outputs": [],
   "source": [
    "## Create a markdown cell to list data science libraries"
   ]
  },
  {
   "cell_type": "code",
   "execution_count": null,
   "id": "bfef1545-d805-4a21-b9b4-e3e0dd7058e1",
   "metadata": {},
   "outputs": [],
   "source": [
    "Some of the commonly used libraries used by Data Scientists include:\n",
    "1. Pandas\n",
    "2. NumPy\n",
    "3. TensorFlow\n",
    "4. SciPy\n",
    "5. Keras"
   ]
  },
  {
   "cell_type": "code",
   "execution_count": null,
   "id": "d93c4ae0-6577-4d39-94a8-5830db8f55ee",
   "metadata": {},
   "outputs": [],
   "source": [
    "## Create a markdown cell with a table of Data Science tools"
   ]
  },
  {
   "cell_type": "markdown",
   "id": "2df6526b-c03c-46f9-961a-0b94454f29e6",
   "metadata": {},
   "source": [
    "| Data Science Tools | \n",
    "| --- |\n",
    "| RStudio |\n",
    "| ApacheSpark |\n",
    "|TensorFlow |"
   ]
  },
  {
   "cell_type": "code",
   "execution_count": null,
   "id": "26b39308-64b7-4a38-b27b-29ec47ff7e8c",
   "metadata": {},
   "outputs": [],
   "source": [
    "## Create a markdown cell introducing arithmetic expression examples"
   ]
  },
  {
   "cell_type": "markdown",
   "id": "ddbb9428-f56f-4ef0-bb16-15418fe19d9d",
   "metadata": {},
   "source": [
    "### Below are a few examples of evaluating arithmetic expressions in Python"
   ]
  },
  {
   "cell_type": "code",
   "execution_count": null,
   "id": "6fcf0854-98d1-4330-a1de-6fe0ab7de7d5",
   "metadata": {},
   "outputs": [],
   "source": [
    "This a simple arithmetic expression to mutiply then add integers"
   ]
  },
  {
   "cell_type": "code",
   "execution_count": 2,
   "id": "a9551414-8373-4546-b47a-0987e9af0aa6",
   "metadata": {},
   "outputs": [
    {
     "data": {
      "text/plain": [
       "17"
      ]
     },
     "execution_count": 2,
     "metadata": {},
     "output_type": "execute_result"
    }
   ],
   "source": [
    "(3*4)+5"
   ]
  },
  {
   "cell_type": "code",
   "execution_count": null,
   "id": "d1aac1d7-a1e2-429a-b678-f03a4e8add7a",
   "metadata": {},
   "outputs": [],
   "source": [
    "## Create a code cell to convert minutes to hours"
   ]
  },
  {
   "cell_type": "code",
   "execution_count": null,
   "id": "eeff2348-b38b-4adb-a73d-e0f32cd929c3",
   "metadata": {},
   "outputs": [],
   "source": [
    "This will convert 200 minutes to hours by diving by 60"
   ]
  },
  {
   "cell_type": "code",
   "execution_count": 4,
   "id": "ac755855-0e21-473a-8ac8-c472bd8644c5",
   "metadata": {},
   "outputs": [
    {
     "data": {
      "text/plain": [
       "3.3333333333333335"
      ]
     },
     "execution_count": 4,
     "metadata": {},
     "output_type": "execute_result"
    }
   ],
   "source": [
    "200/60"
   ]
  },
  {
   "cell_type": "markdown",
   "id": "f767a432-483e-41e8-9e9b-b0dc6b577433",
   "metadata": {},
   "source": [
    "## **Author**"
   ]
  },
  {
   "cell_type": "code",
   "execution_count": null,
   "id": "4a7c1ca9-cefa-4699-a443-c735555538f4",
   "metadata": {},
   "outputs": [],
   "source": [
    "Tammy Bleier"
   ]
  }
 ],
 "metadata": {
  "kernelspec": {
   "display_name": "anaconda-panel-2023.05-py310",
   "language": "python",
   "name": "conda-env-anaconda-panel-2023.05-py310-py"
  },
  "language_info": {
   "codemirror_mode": {
    "name": "ipython",
    "version": 3
   },
   "file_extension": ".py",
   "mimetype": "text/x-python",
   "name": "python",
   "nbconvert_exporter": "python",
   "pygments_lexer": "ipython3",
   "version": "3.11.4"
  }
 },
 "nbformat": 4,
 "nbformat_minor": 5
}
